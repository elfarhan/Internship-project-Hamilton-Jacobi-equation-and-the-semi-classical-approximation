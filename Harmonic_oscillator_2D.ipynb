{
 "cells": [
  {
   "cell_type": "code",
   "execution_count": 1,
   "id": "1cd668dd",
   "metadata": {},
   "outputs": [],
   "source": [
    "from library import *\n",
    "import numpy as np\n",
    "import sympy as s\n",
    "import matplotlib\n",
    "import matplotlib.pyplot as plt\n",
    "from scipy.stats import norm\n",
    "from matplotlib import interactive\n",
    "from matplotlib.animation import FuncAnimation\n",
    "from scipy.stats import norm\n",
    "import math\n",
    "import multiprocessing as multiproc\n",
    "import datetime\n",
    "from joblib import Parallel, delayed\n",
    "from numba import jit\n",
    "from matplotlib import cm\n",
    "from matplotlib.colors import LinearSegmentedColormap,TwoSlopeNorm\n",
    "from IPython.display import display, Math"
   ]
  },
  {
   "cell_type": "markdown",
   "id": "d893be19",
   "metadata": {},
   "source": [
    "# 2D oscillator going in straigt line differnet frequencies with zero point energy"
   ]
  },
  {
   "cell_type": "code",
   "execution_count": 2,
   "id": "b6bc3ac7",
   "metadata": {},
   "outputs": [
    {
     "name": "stdout",
     "output_type": "stream",
     "text": [
      "Hamiltonian:\n"
     ]
    },
    {
     "data": {
      "text/latex": [
       "$\\displaystyle H(p,q) = 0.5 \\omega^{2} m q^{2} + \\frac{p^{2}}{2 m}$"
      ],
      "text/plain": [
       "<IPython.core.display.Math object>"
      ]
     },
     "metadata": {},
     "output_type": "display_data"
    },
    {
     "name": "stdout",
     "output_type": "stream",
     "text": [
      "Hamilton equations:\n"
     ]
    },
    {
     "data": {
      "text/latex": [
       "$\\displaystyle \\frac{dq}{dt} = \\frac{p}{m}$"
      ],
      "text/plain": [
       "<IPython.core.display.Math object>"
      ]
     },
     "metadata": {},
     "output_type": "display_data"
    },
    {
     "data": {
      "text/latex": [
       "$\\displaystyle \\frac{dp}{dt} = - \\omega^{2} m q$"
      ],
      "text/plain": [
       "<IPython.core.display.Math object>"
      ]
     },
     "metadata": {},
     "output_type": "display_data"
    },
    {
     "name": "stdout",
     "output_type": "stream",
     "text": [
      "Parameters:\n"
     ]
    },
    {
     "data": {
      "text/latex": [
       "$\\displaystyle dimension = 2$"
      ],
      "text/plain": [
       "<IPython.core.display.Math object>"
      ]
     },
     "metadata": {},
     "output_type": "display_data"
    },
    {
     "data": {
      "text/latex": [
       "$\\displaystyle m = 1$"
      ],
      "text/plain": [
       "<IPython.core.display.Math object>"
      ]
     },
     "metadata": {},
     "output_type": "display_data"
    },
    {
     "data": {
      "text/latex": [
       "$\\displaystyle \\omega = [1 1]$"
      ],
      "text/plain": [
       "<IPython.core.display.Math object>"
      ]
     },
     "metadata": {},
     "output_type": "display_data"
    },
    {
     "data": {
      "text/latex": [
       "$\\displaystyle \\mu = [0.0, 0.0]$"
      ],
      "text/plain": [
       "<IPython.core.display.Math object>"
      ]
     },
     "metadata": {},
     "output_type": "display_data"
    },
    {
     "data": {
      "text/latex": [
       "$\\displaystyle \\lambda = [1.0, 1.0]$"
      ],
      "text/plain": [
       "<IPython.core.display.Math object>"
      ]
     },
     "metadata": {},
     "output_type": "display_data"
    },
    {
     "data": {
      "text/latex": [
       "$\\displaystyle p_{0} = [0.80901699 0.58778525]$"
      ],
      "text/plain": [
       "<IPython.core.display.Math object>"
      ]
     },
     "metadata": {},
     "output_type": "display_data"
    },
    {
     "data": {
      "text/latex": [
       "$\\displaystyle \\hbar = 1$"
      ],
      "text/plain": [
       "<IPython.core.display.Math object>"
      ]
     },
     "metadata": {},
     "output_type": "display_data"
    }
   ],
   "source": [
    "mu = [0.,0.]\n",
    "phi = np.pi/5\n",
    "r = np.sqrt(mu[1]**2+mu[0]**2)\n",
    "p = np.array([np.cos(phi),np.sin(phi)])\n",
    "\n",
    "l = [1.,1.]\n",
    "w = np.array([1,1])\n",
    "m = 1\n",
    "h = 1\n",
    "trajectories, psi_WKB_2D, X, Y, PSI_QM_2D = Harmonic_oscillator2D(p, mu,l, w, m, h, n_cutoff = 170, resolution = 300, zero_energey = True)"
   ]
  },
  {
   "cell_type": "code",
   "execution_count": 5,
   "id": "bc1d9024",
   "metadata": {},
   "outputs": [],
   "source": [
    "np.save('data/trajectories_CASE1.npy', trajectories)\n",
    "np.save('data/psi_WKB_2D_CASE1.npy', psi_WKB_2D)\n",
    "np.save('data/PSI_QM_2D_CASE1.npy', PSI_QM_2D)\n",
    "np.save('data/X_CASE1.npy', X)\n",
    "np.save('data/Y_CASE1.npy', Y)"
   ]
  },
  {
   "cell_type": "code",
   "execution_count": 7,
   "id": "2a2e8790",
   "metadata": {},
   "outputs": [
    {
     "data": {
      "application/javascript": [
       "/* Put everything inside the global mpl namespace */\n",
       "/* global mpl */\n",
       "window.mpl = {};\n",
       "\n",
       "mpl.get_websocket_type = function () {\n",
       "    if (typeof WebSocket !== 'undefined') {\n",
       "        return WebSocket;\n",
       "    } else if (typeof MozWebSocket !== 'undefined') {\n",
       "        return MozWebSocket;\n",
       "    } else {\n",
       "        alert(\n",
       "            'Your browser does not have WebSocket support. ' +\n",
       "                'Please try Chrome, Safari or Firefox ≥ 6. ' +\n",
       "                'Firefox 4 and 5 are also supported but you ' +\n",
       "                'have to enable WebSockets in about:config.'\n",
       "        );\n",
       "    }\n",
       "};\n",
       "\n",
       "mpl.figure = function (figure_id, websocket, ondownload, parent_element) {\n",
       "    this.id = figure_id;\n",
       "\n",
       "    this.ws = websocket;\n",
       "\n",
       "    this.supports_binary = this.ws.binaryType !== undefined;\n",
       "\n",
       "    if (!this.supports_binary) {\n",
       "        var warnings = document.getElementById('mpl-warnings');\n",
       "        if (warnings) {\n",
       "            warnings.style.display = 'block';\n",
       "            warnings.textContent =\n",
       "                'This browser does not support binary websocket messages. ' +\n",
       "                'Performance may be slow.';\n",
       "        }\n",
       "    }\n",
       "\n",
       "    this.imageObj = new Image();\n",
       "\n",
       "    this.context = undefined;\n",
       "    this.message = undefined;\n",
       "    this.canvas = undefined;\n",
       "    this.rubberband_canvas = undefined;\n",
       "    this.rubberband_context = undefined;\n",
       "    this.format_dropdown = undefined;\n",
       "\n",
       "    this.image_mode = 'full';\n",
       "\n",
       "    this.root = document.createElement('div');\n",
       "    this.root.setAttribute('style', 'display: inline-block');\n",
       "    this._root_extra_style(this.root);\n",
       "\n",
       "    parent_element.appendChild(this.root);\n",
       "\n",
       "    this._init_header(this);\n",
       "    this._init_canvas(this);\n",
       "    this._init_toolbar(this);\n",
       "\n",
       "    var fig = this;\n",
       "\n",
       "    this.waiting = false;\n",
       "\n",
       "    this.ws.onopen = function () {\n",
       "        fig.send_message('supports_binary', { value: fig.supports_binary });\n",
       "        fig.send_message('send_image_mode', {});\n",
       "        if (fig.ratio !== 1) {\n",
       "            fig.send_message('set_device_pixel_ratio', {\n",
       "                device_pixel_ratio: fig.ratio,\n",
       "            });\n",
       "        }\n",
       "        fig.send_message('refresh', {});\n",
       "    };\n",
       "\n",
       "    this.imageObj.onload = function () {\n",
       "        if (fig.image_mode === 'full') {\n",
       "            // Full images could contain transparency (where diff images\n",
       "            // almost always do), so we need to clear the canvas so that\n",
       "            // there is no ghosting.\n",
       "            fig.context.clearRect(0, 0, fig.canvas.width, fig.canvas.height);\n",
       "        }\n",
       "        fig.context.drawImage(fig.imageObj, 0, 0);\n",
       "    };\n",
       "\n",
       "    this.imageObj.onunload = function () {\n",
       "        fig.ws.close();\n",
       "    };\n",
       "\n",
       "    this.ws.onmessage = this._make_on_message_function(this);\n",
       "\n",
       "    this.ondownload = ondownload;\n",
       "};\n",
       "\n",
       "mpl.figure.prototype._init_header = function () {\n",
       "    var titlebar = document.createElement('div');\n",
       "    titlebar.classList =\n",
       "        'ui-dialog-titlebar ui-widget-header ui-corner-all ui-helper-clearfix';\n",
       "    var titletext = document.createElement('div');\n",
       "    titletext.classList = 'ui-dialog-title';\n",
       "    titletext.setAttribute(\n",
       "        'style',\n",
       "        'width: 100%; text-align: center; padding: 3px;'\n",
       "    );\n",
       "    titlebar.appendChild(titletext);\n",
       "    this.root.appendChild(titlebar);\n",
       "    this.header = titletext;\n",
       "};\n",
       "\n",
       "mpl.figure.prototype._canvas_extra_style = function (_canvas_div) {};\n",
       "\n",
       "mpl.figure.prototype._root_extra_style = function (_canvas_div) {};\n",
       "\n",
       "mpl.figure.prototype._init_canvas = function () {\n",
       "    var fig = this;\n",
       "\n",
       "    var canvas_div = (this.canvas_div = document.createElement('div'));\n",
       "    canvas_div.setAttribute('tabindex', '0');\n",
       "    canvas_div.setAttribute(\n",
       "        'style',\n",
       "        'border: 1px solid #ddd;' +\n",
       "            'box-sizing: content-box;' +\n",
       "            'clear: both;' +\n",
       "            'min-height: 1px;' +\n",
       "            'min-width: 1px;' +\n",
       "            'outline: 0;' +\n",
       "            'overflow: hidden;' +\n",
       "            'position: relative;' +\n",
       "            'resize: both;' +\n",
       "            'z-index: 2;'\n",
       "    );\n",
       "\n",
       "    function on_keyboard_event_closure(name) {\n",
       "        return function (event) {\n",
       "            return fig.key_event(event, name);\n",
       "        };\n",
       "    }\n",
       "\n",
       "    canvas_div.addEventListener(\n",
       "        'keydown',\n",
       "        on_keyboard_event_closure('key_press')\n",
       "    );\n",
       "    canvas_div.addEventListener(\n",
       "        'keyup',\n",
       "        on_keyboard_event_closure('key_release')\n",
       "    );\n",
       "\n",
       "    this._canvas_extra_style(canvas_div);\n",
       "    this.root.appendChild(canvas_div);\n",
       "\n",
       "    var canvas = (this.canvas = document.createElement('canvas'));\n",
       "    canvas.classList.add('mpl-canvas');\n",
       "    canvas.setAttribute(\n",
       "        'style',\n",
       "        'box-sizing: content-box;' +\n",
       "            'pointer-events: none;' +\n",
       "            'position: relative;' +\n",
       "            'z-index: 0;'\n",
       "    );\n",
       "\n",
       "    this.context = canvas.getContext('2d');\n",
       "\n",
       "    var backingStore =\n",
       "        this.context.backingStorePixelRatio ||\n",
       "        this.context.webkitBackingStorePixelRatio ||\n",
       "        this.context.mozBackingStorePixelRatio ||\n",
       "        this.context.msBackingStorePixelRatio ||\n",
       "        this.context.oBackingStorePixelRatio ||\n",
       "        this.context.backingStorePixelRatio ||\n",
       "        1;\n",
       "\n",
       "    this.ratio = (window.devicePixelRatio || 1) / backingStore;\n",
       "\n",
       "    var rubberband_canvas = (this.rubberband_canvas = document.createElement(\n",
       "        'canvas'\n",
       "    ));\n",
       "    rubberband_canvas.setAttribute(\n",
       "        'style',\n",
       "        'box-sizing: content-box;' +\n",
       "            'left: 0;' +\n",
       "            'pointer-events: none;' +\n",
       "            'position: absolute;' +\n",
       "            'top: 0;' +\n",
       "            'z-index: 1;'\n",
       "    );\n",
       "\n",
       "    // Apply a ponyfill if ResizeObserver is not implemented by browser.\n",
       "    if (this.ResizeObserver === undefined) {\n",
       "        if (window.ResizeObserver !== undefined) {\n",
       "            this.ResizeObserver = window.ResizeObserver;\n",
       "        } else {\n",
       "            var obs = _JSXTOOLS_RESIZE_OBSERVER({});\n",
       "            this.ResizeObserver = obs.ResizeObserver;\n",
       "        }\n",
       "    }\n",
       "\n",
       "    this.resizeObserverInstance = new this.ResizeObserver(function (entries) {\n",
       "        var nentries = entries.length;\n",
       "        for (var i = 0; i < nentries; i++) {\n",
       "            var entry = entries[i];\n",
       "            var width, height;\n",
       "            if (entry.contentBoxSize) {\n",
       "                if (entry.contentBoxSize instanceof Array) {\n",
       "                    // Chrome 84 implements new version of spec.\n",
       "                    width = entry.contentBoxSize[0].inlineSize;\n",
       "                    height = entry.contentBoxSize[0].blockSize;\n",
       "                } else {\n",
       "                    // Firefox implements old version of spec.\n",
       "                    width = entry.contentBoxSize.inlineSize;\n",
       "                    height = entry.contentBoxSize.blockSize;\n",
       "                }\n",
       "            } else {\n",
       "                // Chrome <84 implements even older version of spec.\n",
       "                width = entry.contentRect.width;\n",
       "                height = entry.contentRect.height;\n",
       "            }\n",
       "\n",
       "            // Keep the size of the canvas and rubber band canvas in sync with\n",
       "            // the canvas container.\n",
       "            if (entry.devicePixelContentBoxSize) {\n",
       "                // Chrome 84 implements new version of spec.\n",
       "                canvas.setAttribute(\n",
       "                    'width',\n",
       "                    entry.devicePixelContentBoxSize[0].inlineSize\n",
       "                );\n",
       "                canvas.setAttribute(\n",
       "                    'height',\n",
       "                    entry.devicePixelContentBoxSize[0].blockSize\n",
       "                );\n",
       "            } else {\n",
       "                canvas.setAttribute('width', width * fig.ratio);\n",
       "                canvas.setAttribute('height', height * fig.ratio);\n",
       "            }\n",
       "            /* This rescales the canvas back to display pixels, so that it\n",
       "             * appears correct on HiDPI screens. */\n",
       "            canvas.style.width = width + 'px';\n",
       "            canvas.style.height = height + 'px';\n",
       "\n",
       "            rubberband_canvas.setAttribute('width', width);\n",
       "            rubberband_canvas.setAttribute('height', height);\n",
       "\n",
       "            // And update the size in Python. We ignore the initial 0/0 size\n",
       "            // that occurs as the element is placed into the DOM, which should\n",
       "            // otherwise not happen due to the minimum size styling.\n",
       "            if (fig.ws.readyState == 1 && width != 0 && height != 0) {\n",
       "                fig.request_resize(width, height);\n",
       "            }\n",
       "        }\n",
       "    });\n",
       "    this.resizeObserverInstance.observe(canvas_div);\n",
       "\n",
       "    function on_mouse_event_closure(name) {\n",
       "        /* User Agent sniffing is bad, but WebKit is busted:\n",
       "         * https://bugs.webkit.org/show_bug.cgi?id=144526\n",
       "         * https://bugs.webkit.org/show_bug.cgi?id=181818\n",
       "         * The worst that happens here is that they get an extra browser\n",
       "         * selection when dragging, if this check fails to catch them.\n",
       "         */\n",
       "        var UA = navigator.userAgent;\n",
       "        var isWebKit = /AppleWebKit/.test(UA) && !/Chrome/.test(UA);\n",
       "        if(isWebKit) {\n",
       "            return function (event) {\n",
       "                /* This prevents the web browser from automatically changing to\n",
       "                 * the text insertion cursor when the button is pressed. We\n",
       "                 * want to control all of the cursor setting manually through\n",
       "                 * the 'cursor' event from matplotlib */\n",
       "                event.preventDefault()\n",
       "                return fig.mouse_event(event, name);\n",
       "            };\n",
       "        } else {\n",
       "            return function (event) {\n",
       "                return fig.mouse_event(event, name);\n",
       "            };\n",
       "        }\n",
       "    }\n",
       "\n",
       "    canvas_div.addEventListener(\n",
       "        'mousedown',\n",
       "        on_mouse_event_closure('button_press')\n",
       "    );\n",
       "    canvas_div.addEventListener(\n",
       "        'mouseup',\n",
       "        on_mouse_event_closure('button_release')\n",
       "    );\n",
       "    canvas_div.addEventListener(\n",
       "        'dblclick',\n",
       "        on_mouse_event_closure('dblclick')\n",
       "    );\n",
       "    // Throttle sequential mouse events to 1 every 20ms.\n",
       "    canvas_div.addEventListener(\n",
       "        'mousemove',\n",
       "        on_mouse_event_closure('motion_notify')\n",
       "    );\n",
       "\n",
       "    canvas_div.addEventListener(\n",
       "        'mouseenter',\n",
       "        on_mouse_event_closure('figure_enter')\n",
       "    );\n",
       "    canvas_div.addEventListener(\n",
       "        'mouseleave',\n",
       "        on_mouse_event_closure('figure_leave')\n",
       "    );\n",
       "\n",
       "    canvas_div.addEventListener('wheel', function (event) {\n",
       "        if (event.deltaY < 0) {\n",
       "            event.step = 1;\n",
       "        } else {\n",
       "            event.step = -1;\n",
       "        }\n",
       "        on_mouse_event_closure('scroll')(event);\n",
       "    });\n",
       "\n",
       "    canvas_div.appendChild(canvas);\n",
       "    canvas_div.appendChild(rubberband_canvas);\n",
       "\n",
       "    this.rubberband_context = rubberband_canvas.getContext('2d');\n",
       "    this.rubberband_context.strokeStyle = '#000000';\n",
       "\n",
       "    this._resize_canvas = function (width, height, forward) {\n",
       "        if (forward) {\n",
       "            canvas_div.style.width = width + 'px';\n",
       "            canvas_div.style.height = height + 'px';\n",
       "        }\n",
       "    };\n",
       "\n",
       "    // Disable right mouse context menu.\n",
       "    canvas_div.addEventListener('contextmenu', function (_e) {\n",
       "        event.preventDefault();\n",
       "        return false;\n",
       "    });\n",
       "\n",
       "    function set_focus() {\n",
       "        canvas.focus();\n",
       "        canvas_div.focus();\n",
       "    }\n",
       "\n",
       "    window.setTimeout(set_focus, 100);\n",
       "};\n",
       "\n",
       "mpl.figure.prototype._init_toolbar = function () {\n",
       "    var fig = this;\n",
       "\n",
       "    var toolbar = document.createElement('div');\n",
       "    toolbar.classList = 'mpl-toolbar';\n",
       "    this.root.appendChild(toolbar);\n",
       "\n",
       "    function on_click_closure(name) {\n",
       "        return function (_event) {\n",
       "            return fig.toolbar_button_onclick(name);\n",
       "        };\n",
       "    }\n",
       "\n",
       "    function on_mouseover_closure(tooltip) {\n",
       "        return function (event) {\n",
       "            if (!event.currentTarget.disabled) {\n",
       "                return fig.toolbar_button_onmouseover(tooltip);\n",
       "            }\n",
       "        };\n",
       "    }\n",
       "\n",
       "    fig.buttons = {};\n",
       "    var buttonGroup = document.createElement('div');\n",
       "    buttonGroup.classList = 'mpl-button-group';\n",
       "    for (var toolbar_ind in mpl.toolbar_items) {\n",
       "        var name = mpl.toolbar_items[toolbar_ind][0];\n",
       "        var tooltip = mpl.toolbar_items[toolbar_ind][1];\n",
       "        var image = mpl.toolbar_items[toolbar_ind][2];\n",
       "        var method_name = mpl.toolbar_items[toolbar_ind][3];\n",
       "\n",
       "        if (!name) {\n",
       "            /* Instead of a spacer, we start a new button group. */\n",
       "            if (buttonGroup.hasChildNodes()) {\n",
       "                toolbar.appendChild(buttonGroup);\n",
       "            }\n",
       "            buttonGroup = document.createElement('div');\n",
       "            buttonGroup.classList = 'mpl-button-group';\n",
       "            continue;\n",
       "        }\n",
       "\n",
       "        var button = (fig.buttons[name] = document.createElement('button'));\n",
       "        button.classList = 'mpl-widget';\n",
       "        button.setAttribute('role', 'button');\n",
       "        button.setAttribute('aria-disabled', 'false');\n",
       "        button.addEventListener('click', on_click_closure(method_name));\n",
       "        button.addEventListener('mouseover', on_mouseover_closure(tooltip));\n",
       "\n",
       "        var icon_img = document.createElement('img');\n",
       "        icon_img.src = '_images/' + image + '.png';\n",
       "        icon_img.srcset = '_images/' + image + '_large.png 2x';\n",
       "        icon_img.alt = tooltip;\n",
       "        button.appendChild(icon_img);\n",
       "\n",
       "        buttonGroup.appendChild(button);\n",
       "    }\n",
       "\n",
       "    if (buttonGroup.hasChildNodes()) {\n",
       "        toolbar.appendChild(buttonGroup);\n",
       "    }\n",
       "\n",
       "    var fmt_picker = document.createElement('select');\n",
       "    fmt_picker.classList = 'mpl-widget';\n",
       "    toolbar.appendChild(fmt_picker);\n",
       "    this.format_dropdown = fmt_picker;\n",
       "\n",
       "    for (var ind in mpl.extensions) {\n",
       "        var fmt = mpl.extensions[ind];\n",
       "        var option = document.createElement('option');\n",
       "        option.selected = fmt === mpl.default_extension;\n",
       "        option.innerHTML = fmt;\n",
       "        fmt_picker.appendChild(option);\n",
       "    }\n",
       "\n",
       "    var status_bar = document.createElement('span');\n",
       "    status_bar.classList = 'mpl-message';\n",
       "    toolbar.appendChild(status_bar);\n",
       "    this.message = status_bar;\n",
       "};\n",
       "\n",
       "mpl.figure.prototype.request_resize = function (x_pixels, y_pixels) {\n",
       "    // Request matplotlib to resize the figure. Matplotlib will then trigger a resize in the client,\n",
       "    // which will in turn request a refresh of the image.\n",
       "    this.send_message('resize', { width: x_pixels, height: y_pixels });\n",
       "};\n",
       "\n",
       "mpl.figure.prototype.send_message = function (type, properties) {\n",
       "    properties['type'] = type;\n",
       "    properties['figure_id'] = this.id;\n",
       "    this.ws.send(JSON.stringify(properties));\n",
       "};\n",
       "\n",
       "mpl.figure.prototype.send_draw_message = function () {\n",
       "    if (!this.waiting) {\n",
       "        this.waiting = true;\n",
       "        this.ws.send(JSON.stringify({ type: 'draw', figure_id: this.id }));\n",
       "    }\n",
       "};\n",
       "\n",
       "mpl.figure.prototype.handle_save = function (fig, _msg) {\n",
       "    var format_dropdown = fig.format_dropdown;\n",
       "    var format = format_dropdown.options[format_dropdown.selectedIndex].value;\n",
       "    fig.ondownload(fig, format);\n",
       "};\n",
       "\n",
       "mpl.figure.prototype.handle_resize = function (fig, msg) {\n",
       "    var size = msg['size'];\n",
       "    if (size[0] !== fig.canvas.width || size[1] !== fig.canvas.height) {\n",
       "        fig._resize_canvas(size[0], size[1], msg['forward']);\n",
       "        fig.send_message('refresh', {});\n",
       "    }\n",
       "};\n",
       "\n",
       "mpl.figure.prototype.handle_rubberband = function (fig, msg) {\n",
       "    var x0 = msg['x0'] / fig.ratio;\n",
       "    var y0 = (fig.canvas.height - msg['y0']) / fig.ratio;\n",
       "    var x1 = msg['x1'] / fig.ratio;\n",
       "    var y1 = (fig.canvas.height - msg['y1']) / fig.ratio;\n",
       "    x0 = Math.floor(x0) + 0.5;\n",
       "    y0 = Math.floor(y0) + 0.5;\n",
       "    x1 = Math.floor(x1) + 0.5;\n",
       "    y1 = Math.floor(y1) + 0.5;\n",
       "    var min_x = Math.min(x0, x1);\n",
       "    var min_y = Math.min(y0, y1);\n",
       "    var width = Math.abs(x1 - x0);\n",
       "    var height = Math.abs(y1 - y0);\n",
       "\n",
       "    fig.rubberband_context.clearRect(\n",
       "        0,\n",
       "        0,\n",
       "        fig.canvas.width / fig.ratio,\n",
       "        fig.canvas.height / fig.ratio\n",
       "    );\n",
       "\n",
       "    fig.rubberband_context.strokeRect(min_x, min_y, width, height);\n",
       "};\n",
       "\n",
       "mpl.figure.prototype.handle_figure_label = function (fig, msg) {\n",
       "    // Updates the figure title.\n",
       "    fig.header.textContent = msg['label'];\n",
       "};\n",
       "\n",
       "mpl.figure.prototype.handle_cursor = function (fig, msg) {\n",
       "    fig.canvas_div.style.cursor = msg['cursor'];\n",
       "};\n",
       "\n",
       "mpl.figure.prototype.handle_message = function (fig, msg) {\n",
       "    fig.message.textContent = msg['message'];\n",
       "};\n",
       "\n",
       "mpl.figure.prototype.handle_draw = function (fig, _msg) {\n",
       "    // Request the server to send over a new figure.\n",
       "    fig.send_draw_message();\n",
       "};\n",
       "\n",
       "mpl.figure.prototype.handle_image_mode = function (fig, msg) {\n",
       "    fig.image_mode = msg['mode'];\n",
       "};\n",
       "\n",
       "mpl.figure.prototype.handle_history_buttons = function (fig, msg) {\n",
       "    for (var key in msg) {\n",
       "        if (!(key in fig.buttons)) {\n",
       "            continue;\n",
       "        }\n",
       "        fig.buttons[key].disabled = !msg[key];\n",
       "        fig.buttons[key].setAttribute('aria-disabled', !msg[key]);\n",
       "    }\n",
       "};\n",
       "\n",
       "mpl.figure.prototype.handle_navigate_mode = function (fig, msg) {\n",
       "    if (msg['mode'] === 'PAN') {\n",
       "        fig.buttons['Pan'].classList.add('active');\n",
       "        fig.buttons['Zoom'].classList.remove('active');\n",
       "    } else if (msg['mode'] === 'ZOOM') {\n",
       "        fig.buttons['Pan'].classList.remove('active');\n",
       "        fig.buttons['Zoom'].classList.add('active');\n",
       "    } else {\n",
       "        fig.buttons['Pan'].classList.remove('active');\n",
       "        fig.buttons['Zoom'].classList.remove('active');\n",
       "    }\n",
       "};\n",
       "\n",
       "mpl.figure.prototype.updated_canvas_event = function () {\n",
       "    // Called whenever the canvas gets updated.\n",
       "    this.send_message('ack', {});\n",
       "};\n",
       "\n",
       "// A function to construct a web socket function for onmessage handling.\n",
       "// Called in the figure constructor.\n",
       "mpl.figure.prototype._make_on_message_function = function (fig) {\n",
       "    return function socket_on_message(evt) {\n",
       "        if (evt.data instanceof Blob) {\n",
       "            var img = evt.data;\n",
       "            if (img.type !== 'image/png') {\n",
       "                /* FIXME: We get \"Resource interpreted as Image but\n",
       "                 * transferred with MIME type text/plain:\" errors on\n",
       "                 * Chrome.  But how to set the MIME type?  It doesn't seem\n",
       "                 * to be part of the websocket stream */\n",
       "                img.type = 'image/png';\n",
       "            }\n",
       "\n",
       "            /* Free the memory for the previous frames */\n",
       "            if (fig.imageObj.src) {\n",
       "                (window.URL || window.webkitURL).revokeObjectURL(\n",
       "                    fig.imageObj.src\n",
       "                );\n",
       "            }\n",
       "\n",
       "            fig.imageObj.src = (window.URL || window.webkitURL).createObjectURL(\n",
       "                img\n",
       "            );\n",
       "            fig.updated_canvas_event();\n",
       "            fig.waiting = false;\n",
       "            return;\n",
       "        } else if (\n",
       "            typeof evt.data === 'string' &&\n",
       "            evt.data.slice(0, 21) === 'data:image/png;base64'\n",
       "        ) {\n",
       "            fig.imageObj.src = evt.data;\n",
       "            fig.updated_canvas_event();\n",
       "            fig.waiting = false;\n",
       "            return;\n",
       "        }\n",
       "\n",
       "        var msg = JSON.parse(evt.data);\n",
       "        var msg_type = msg['type'];\n",
       "\n",
       "        // Call the  \"handle_{type}\" callback, which takes\n",
       "        // the figure and JSON message as its only arguments.\n",
       "        try {\n",
       "            var callback = fig['handle_' + msg_type];\n",
       "        } catch (e) {\n",
       "            console.log(\n",
       "                \"No handler for the '\" + msg_type + \"' message type: \",\n",
       "                msg\n",
       "            );\n",
       "            return;\n",
       "        }\n",
       "\n",
       "        if (callback) {\n",
       "            try {\n",
       "                // console.log(\"Handling '\" + msg_type + \"' message: \", msg);\n",
       "                callback(fig, msg);\n",
       "            } catch (e) {\n",
       "                console.log(\n",
       "                    \"Exception inside the 'handler_\" + msg_type + \"' callback:\",\n",
       "                    e,\n",
       "                    e.stack,\n",
       "                    msg\n",
       "                );\n",
       "            }\n",
       "        }\n",
       "    };\n",
       "};\n",
       "\n",
       "\n",
       "/*\n",
       " * return a copy of an object with only non-object keys\n",
       " * we need this to avoid circular references\n",
       " * https://stackoverflow.com/a/24161582/3208463\n",
       " */\n",
       "function simpleKeys(original) {\n",
       "    return Object.keys(original).reduce(function (obj, key) {\n",
       "        if (typeof original[key] !== 'object') {\n",
       "            obj[key] = original[key];\n",
       "        }\n",
       "        return obj;\n",
       "    }, {});\n",
       "}\n",
       "\n",
       "mpl.figure.prototype.mouse_event = function (event, name) {\n",
       "    if (name === 'button_press') {\n",
       "        this.canvas.focus();\n",
       "        this.canvas_div.focus();\n",
       "    }\n",
       "\n",
       "    // from https://stackoverflow.com/q/1114465\n",
       "    var boundingRect = this.canvas.getBoundingClientRect();\n",
       "    var x = (event.clientX - boundingRect.left) * this.ratio;\n",
       "    var y = (event.clientY - boundingRect.top) * this.ratio;\n",
       "\n",
       "    this.send_message(name, {\n",
       "        x: x,\n",
       "        y: y,\n",
       "        button: event.button,\n",
       "        step: event.step,\n",
       "        guiEvent: simpleKeys(event),\n",
       "    });\n",
       "\n",
       "    return false;\n",
       "};\n",
       "\n",
       "mpl.figure.prototype._key_event_extra = function (_event, _name) {\n",
       "    // Handle any extra behaviour associated with a key event\n",
       "};\n",
       "\n",
       "mpl.figure.prototype.key_event = function (event, name) {\n",
       "    // Prevent repeat events\n",
       "    if (name === 'key_press') {\n",
       "        if (event.key === this._key) {\n",
       "            return;\n",
       "        } else {\n",
       "            this._key = event.key;\n",
       "        }\n",
       "    }\n",
       "    if (name === 'key_release') {\n",
       "        this._key = null;\n",
       "    }\n",
       "\n",
       "    var value = '';\n",
       "    if (event.ctrlKey && event.key !== 'Control') {\n",
       "        value += 'ctrl+';\n",
       "    }\n",
       "    else if (event.altKey && event.key !== 'Alt') {\n",
       "        value += 'alt+';\n",
       "    }\n",
       "    else if (event.shiftKey && event.key !== 'Shift') {\n",
       "        value += 'shift+';\n",
       "    }\n",
       "\n",
       "    value += 'k' + event.key;\n",
       "\n",
       "    this._key_event_extra(event, name);\n",
       "\n",
       "    this.send_message(name, { key: value, guiEvent: simpleKeys(event) });\n",
       "    return false;\n",
       "};\n",
       "\n",
       "mpl.figure.prototype.toolbar_button_onclick = function (name) {\n",
       "    if (name === 'download') {\n",
       "        this.handle_save(this, null);\n",
       "    } else {\n",
       "        this.send_message('toolbar_button', { name: name });\n",
       "    }\n",
       "};\n",
       "\n",
       "mpl.figure.prototype.toolbar_button_onmouseover = function (tooltip) {\n",
       "    this.message.textContent = tooltip;\n",
       "};\n",
       "\n",
       "///////////////// REMAINING CONTENT GENERATED BY embed_js.py /////////////////\n",
       "// prettier-ignore\n",
       "var _JSXTOOLS_RESIZE_OBSERVER=function(A){var t,i=new WeakMap,n=new WeakMap,a=new WeakMap,r=new WeakMap,o=new Set;function s(e){if(!(this instanceof s))throw new TypeError(\"Constructor requires 'new' operator\");i.set(this,e)}function h(){throw new TypeError(\"Function is not a constructor\")}function c(e,t,i,n){e=0 in arguments?Number(arguments[0]):0,t=1 in arguments?Number(arguments[1]):0,i=2 in arguments?Number(arguments[2]):0,n=3 in arguments?Number(arguments[3]):0,this.right=(this.x=this.left=e)+(this.width=i),this.bottom=(this.y=this.top=t)+(this.height=n),Object.freeze(this)}function d(){t=requestAnimationFrame(d);var s=new WeakMap,p=new Set;o.forEach((function(t){r.get(t).forEach((function(i){var r=t instanceof window.SVGElement,o=a.get(t),d=r?0:parseFloat(o.paddingTop),f=r?0:parseFloat(o.paddingRight),l=r?0:parseFloat(o.paddingBottom),u=r?0:parseFloat(o.paddingLeft),g=r?0:parseFloat(o.borderTopWidth),m=r?0:parseFloat(o.borderRightWidth),w=r?0:parseFloat(o.borderBottomWidth),b=u+f,F=d+l,v=(r?0:parseFloat(o.borderLeftWidth))+m,W=g+w,y=r?0:t.offsetHeight-W-t.clientHeight,E=r?0:t.offsetWidth-v-t.clientWidth,R=b+v,z=F+W,M=r?t.width:parseFloat(o.width)-R-E,O=r?t.height:parseFloat(o.height)-z-y;if(n.has(t)){var k=n.get(t);if(k[0]===M&&k[1]===O)return}n.set(t,[M,O]);var S=Object.create(h.prototype);S.target=t,S.contentRect=new c(u,d,M,O),s.has(i)||(s.set(i,[]),p.add(i)),s.get(i).push(S)}))})),p.forEach((function(e){i.get(e).call(e,s.get(e),e)}))}return s.prototype.observe=function(i){if(i instanceof window.Element){r.has(i)||(r.set(i,new Set),o.add(i),a.set(i,window.getComputedStyle(i)));var n=r.get(i);n.has(this)||n.add(this),cancelAnimationFrame(t),t=requestAnimationFrame(d)}},s.prototype.unobserve=function(i){if(i instanceof window.Element&&r.has(i)){var n=r.get(i);n.has(this)&&(n.delete(this),n.size||(r.delete(i),o.delete(i))),n.size||r.delete(i),o.size||cancelAnimationFrame(t)}},A.DOMRectReadOnly=c,A.ResizeObserver=s,A.ResizeObserverEntry=h,A}; // eslint-disable-line\n",
       "mpl.toolbar_items = [[\"Home\", \"Reset original view\", \"fa fa-home\", \"home\"], [\"Back\", \"Back to previous view\", \"fa fa-arrow-left\", \"back\"], [\"Forward\", \"Forward to next view\", \"fa fa-arrow-right\", \"forward\"], [\"\", \"\", \"\", \"\"], [\"Pan\", \"Left button pans, Right button zooms\\nx/y fixes axis, CTRL fixes aspect\", \"fa fa-arrows\", \"pan\"], [\"Zoom\", \"Zoom to rectangle\\nx/y fixes axis\", \"fa fa-square-o\", \"zoom\"], [\"\", \"\", \"\", \"\"], [\"Download\", \"Download plot\", \"fa fa-floppy-o\", \"download\"]];\n",
       "\n",
       "mpl.extensions = [\"eps\", \"jpeg\", \"pgf\", \"pdf\", \"png\", \"ps\", \"raw\", \"svg\", \"tif\", \"webp\"];\n",
       "\n",
       "mpl.default_extension = \"png\";/* global mpl */\n",
       "\n",
       "var comm_websocket_adapter = function (comm) {\n",
       "    // Create a \"websocket\"-like object which calls the given IPython comm\n",
       "    // object with the appropriate methods. Currently this is a non binary\n",
       "    // socket, so there is still some room for performance tuning.\n",
       "    var ws = {};\n",
       "\n",
       "    ws.binaryType = comm.kernel.ws.binaryType;\n",
       "    ws.readyState = comm.kernel.ws.readyState;\n",
       "    function updateReadyState(_event) {\n",
       "        if (comm.kernel.ws) {\n",
       "            ws.readyState = comm.kernel.ws.readyState;\n",
       "        } else {\n",
       "            ws.readyState = 3; // Closed state.\n",
       "        }\n",
       "    }\n",
       "    comm.kernel.ws.addEventListener('open', updateReadyState);\n",
       "    comm.kernel.ws.addEventListener('close', updateReadyState);\n",
       "    comm.kernel.ws.addEventListener('error', updateReadyState);\n",
       "\n",
       "    ws.close = function () {\n",
       "        comm.close();\n",
       "    };\n",
       "    ws.send = function (m) {\n",
       "        //console.log('sending', m);\n",
       "        comm.send(m);\n",
       "    };\n",
       "    // Register the callback with on_msg.\n",
       "    comm.on_msg(function (msg) {\n",
       "        //console.log('receiving', msg['content']['data'], msg);\n",
       "        var data = msg['content']['data'];\n",
       "        if (data['blob'] !== undefined) {\n",
       "            data = {\n",
       "                data: new Blob(msg['buffers'], { type: data['blob'] }),\n",
       "            };\n",
       "        }\n",
       "        // Pass the mpl event to the overridden (by mpl) onmessage function.\n",
       "        ws.onmessage(data);\n",
       "    });\n",
       "    return ws;\n",
       "};\n",
       "\n",
       "mpl.mpl_figure_comm = function (comm, msg) {\n",
       "    // This is the function which gets called when the mpl process\n",
       "    // starts-up an IPython Comm through the \"matplotlib\" channel.\n",
       "\n",
       "    var id = msg.content.data.id;\n",
       "    // Get hold of the div created by the display call when the Comm\n",
       "    // socket was opened in Python.\n",
       "    var element = document.getElementById(id);\n",
       "    var ws_proxy = comm_websocket_adapter(comm);\n",
       "\n",
       "    function ondownload(figure, _format) {\n",
       "        window.open(figure.canvas.toDataURL());\n",
       "    }\n",
       "\n",
       "    var fig = new mpl.figure(id, ws_proxy, ondownload, element);\n",
       "\n",
       "    // Call onopen now - mpl needs it, as it is assuming we've passed it a real\n",
       "    // web socket which is closed, not our websocket->open comm proxy.\n",
       "    ws_proxy.onopen();\n",
       "\n",
       "    fig.parent_element = element;\n",
       "    fig.cell_info = mpl.find_output_cell(\"<div id='\" + id + \"'></div>\");\n",
       "    if (!fig.cell_info) {\n",
       "        console.error('Failed to find cell for figure', id, fig);\n",
       "        return;\n",
       "    }\n",
       "    fig.cell_info[0].output_area.element.on(\n",
       "        'cleared',\n",
       "        { fig: fig },\n",
       "        fig._remove_fig_handler\n",
       "    );\n",
       "};\n",
       "\n",
       "mpl.figure.prototype.handle_close = function (fig, msg) {\n",
       "    var width = fig.canvas.width / fig.ratio;\n",
       "    fig.cell_info[0].output_area.element.off(\n",
       "        'cleared',\n",
       "        fig._remove_fig_handler\n",
       "    );\n",
       "    fig.resizeObserverInstance.unobserve(fig.canvas_div);\n",
       "\n",
       "    // Update the output cell to use the data from the current canvas.\n",
       "    fig.push_to_output();\n",
       "    var dataURL = fig.canvas.toDataURL();\n",
       "    // Re-enable the keyboard manager in IPython - without this line, in FF,\n",
       "    // the notebook keyboard shortcuts fail.\n",
       "    IPython.keyboard_manager.enable();\n",
       "    fig.parent_element.innerHTML =\n",
       "        '<img src=\"' + dataURL + '\" width=\"' + width + '\">';\n",
       "    fig.close_ws(fig, msg);\n",
       "};\n",
       "\n",
       "mpl.figure.prototype.close_ws = function (fig, msg) {\n",
       "    fig.send_message('closing', msg);\n",
       "    // fig.ws.close()\n",
       "};\n",
       "\n",
       "mpl.figure.prototype.push_to_output = function (_remove_interactive) {\n",
       "    // Turn the data on the canvas into data in the output cell.\n",
       "    var width = this.canvas.width / this.ratio;\n",
       "    var dataURL = this.canvas.toDataURL();\n",
       "    this.cell_info[1]['text/html'] =\n",
       "        '<img src=\"' + dataURL + '\" width=\"' + width + '\">';\n",
       "};\n",
       "\n",
       "mpl.figure.prototype.updated_canvas_event = function () {\n",
       "    // Tell IPython that the notebook contents must change.\n",
       "    IPython.notebook.set_dirty(true);\n",
       "    this.send_message('ack', {});\n",
       "    var fig = this;\n",
       "    // Wait a second, then push the new image to the DOM so\n",
       "    // that it is saved nicely (might be nice to debounce this).\n",
       "    setTimeout(function () {\n",
       "        fig.push_to_output();\n",
       "    }, 1000);\n",
       "};\n",
       "\n",
       "mpl.figure.prototype._init_toolbar = function () {\n",
       "    var fig = this;\n",
       "\n",
       "    var toolbar = document.createElement('div');\n",
       "    toolbar.classList = 'btn-toolbar';\n",
       "    this.root.appendChild(toolbar);\n",
       "\n",
       "    function on_click_closure(name) {\n",
       "        return function (_event) {\n",
       "            return fig.toolbar_button_onclick(name);\n",
       "        };\n",
       "    }\n",
       "\n",
       "    function on_mouseover_closure(tooltip) {\n",
       "        return function (event) {\n",
       "            if (!event.currentTarget.disabled) {\n",
       "                return fig.toolbar_button_onmouseover(tooltip);\n",
       "            }\n",
       "        };\n",
       "    }\n",
       "\n",
       "    fig.buttons = {};\n",
       "    var buttonGroup = document.createElement('div');\n",
       "    buttonGroup.classList = 'btn-group';\n",
       "    var button;\n",
       "    for (var toolbar_ind in mpl.toolbar_items) {\n",
       "        var name = mpl.toolbar_items[toolbar_ind][0];\n",
       "        var tooltip = mpl.toolbar_items[toolbar_ind][1];\n",
       "        var image = mpl.toolbar_items[toolbar_ind][2];\n",
       "        var method_name = mpl.toolbar_items[toolbar_ind][3];\n",
       "\n",
       "        if (!name) {\n",
       "            /* Instead of a spacer, we start a new button group. */\n",
       "            if (buttonGroup.hasChildNodes()) {\n",
       "                toolbar.appendChild(buttonGroup);\n",
       "            }\n",
       "            buttonGroup = document.createElement('div');\n",
       "            buttonGroup.classList = 'btn-group';\n",
       "            continue;\n",
       "        }\n",
       "\n",
       "        button = fig.buttons[name] = document.createElement('button');\n",
       "        button.classList = 'btn btn-default';\n",
       "        button.href = '#';\n",
       "        button.title = name;\n",
       "        button.innerHTML = '<i class=\"fa ' + image + ' fa-lg\"></i>';\n",
       "        button.addEventListener('click', on_click_closure(method_name));\n",
       "        button.addEventListener('mouseover', on_mouseover_closure(tooltip));\n",
       "        buttonGroup.appendChild(button);\n",
       "    }\n",
       "\n",
       "    if (buttonGroup.hasChildNodes()) {\n",
       "        toolbar.appendChild(buttonGroup);\n",
       "    }\n",
       "\n",
       "    // Add the status bar.\n",
       "    var status_bar = document.createElement('span');\n",
       "    status_bar.classList = 'mpl-message pull-right';\n",
       "    toolbar.appendChild(status_bar);\n",
       "    this.message = status_bar;\n",
       "\n",
       "    // Add the close button to the window.\n",
       "    var buttongrp = document.createElement('div');\n",
       "    buttongrp.classList = 'btn-group inline pull-right';\n",
       "    button = document.createElement('button');\n",
       "    button.classList = 'btn btn-mini btn-primary';\n",
       "    button.href = '#';\n",
       "    button.title = 'Stop Interaction';\n",
       "    button.innerHTML = '<i class=\"fa fa-power-off icon-remove icon-large\"></i>';\n",
       "    button.addEventListener('click', function (_evt) {\n",
       "        fig.handle_close(fig, {});\n",
       "    });\n",
       "    button.addEventListener(\n",
       "        'mouseover',\n",
       "        on_mouseover_closure('Stop Interaction')\n",
       "    );\n",
       "    buttongrp.appendChild(button);\n",
       "    var titlebar = this.root.querySelector('.ui-dialog-titlebar');\n",
       "    titlebar.insertBefore(buttongrp, titlebar.firstChild);\n",
       "};\n",
       "\n",
       "mpl.figure.prototype._remove_fig_handler = function (event) {\n",
       "    var fig = event.data.fig;\n",
       "    if (event.target !== this) {\n",
       "        // Ignore bubbled events from children.\n",
       "        return;\n",
       "    }\n",
       "    fig.close_ws(fig, {});\n",
       "};\n",
       "\n",
       "mpl.figure.prototype._root_extra_style = function (el) {\n",
       "    el.style.boxSizing = 'content-box'; // override notebook setting of border-box.\n",
       "};\n",
       "\n",
       "mpl.figure.prototype._canvas_extra_style = function (el) {\n",
       "    // this is important to make the div 'focusable\n",
       "    el.setAttribute('tabindex', 0);\n",
       "    // reach out to IPython and tell the keyboard manager to turn it's self\n",
       "    // off when our div gets focus\n",
       "\n",
       "    // location in version 3\n",
       "    if (IPython.notebook.keyboard_manager) {\n",
       "        IPython.notebook.keyboard_manager.register_events(el);\n",
       "    } else {\n",
       "        // location in version 2\n",
       "        IPython.keyboard_manager.register_events(el);\n",
       "    }\n",
       "};\n",
       "\n",
       "mpl.figure.prototype._key_event_extra = function (event, _name) {\n",
       "    // Check for shift+enter\n",
       "    if (event.shiftKey && event.which === 13) {\n",
       "        this.canvas_div.blur();\n",
       "        // select the cell after this one\n",
       "        var index = IPython.notebook.find_cell_index(this.cell_info[0]);\n",
       "        IPython.notebook.select(index + 1);\n",
       "    }\n",
       "};\n",
       "\n",
       "mpl.figure.prototype.handle_save = function (fig, _msg) {\n",
       "    fig.ondownload(fig, null);\n",
       "};\n",
       "\n",
       "mpl.find_output_cell = function (html_output) {\n",
       "    // Return the cell and output element which can be found *uniquely* in the notebook.\n",
       "    // Note - this is a bit hacky, but it is done because the \"notebook_saving.Notebook\"\n",
       "    // IPython event is triggered only after the cells have been serialised, which for\n",
       "    // our purposes (turning an active figure into a static one), is too late.\n",
       "    var cells = IPython.notebook.get_cells();\n",
       "    var ncells = cells.length;\n",
       "    for (var i = 0; i < ncells; i++) {\n",
       "        var cell = cells[i];\n",
       "        if (cell.cell_type === 'code') {\n",
       "            for (var j = 0; j < cell.output_area.outputs.length; j++) {\n",
       "                var data = cell.output_area.outputs[j];\n",
       "                if (data.data) {\n",
       "                    // IPython >= 3 moved mimebundle to data attribute of output\n",
       "                    data = data.data;\n",
       "                }\n",
       "                if (data['text/html'] === html_output) {\n",
       "                    return [cell, data, j];\n",
       "                }\n",
       "            }\n",
       "        }\n",
       "    }\n",
       "};\n",
       "\n",
       "// Register the function which deals with the matplotlib target/channel.\n",
       "// The kernel may be null if the page has been refreshed.\n",
       "if (IPython.notebook.kernel !== null) {\n",
       "    IPython.notebook.kernel.comm_manager.register_target(\n",
       "        'matplotlib',\n",
       "        mpl.mpl_figure_comm\n",
       "    );\n",
       "}\n"
      ],
      "text/plain": [
       "<IPython.core.display.Javascript object>"
      ]
     },
     "metadata": {},
     "output_type": "display_data"
    },
    {
     "data": {
      "text/html": [
       "<img src=\"data:image/png;base64,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\" width=\"640\">"
      ],
      "text/plain": [
       "<IPython.core.display.HTML object>"
      ]
     },
     "metadata": {},
     "output_type": "display_data"
    }
   ],
   "source": [
    "%matplotlib notebook\n",
    "fig = plt.figure()\n",
    "ax = fig.add_subplot()\n",
    "\n",
    "def _forward(x):\n",
    "    return np.exp(-x**2)\n",
    "def _inverse(x):\n",
    "    return np.sqrt(np.log(x))\n",
    "\n",
    "divnorm = matplotlib.colors.FuncNorm((_forward, _inverse), vmin=.000, vmax=1)\n",
    "\n",
    "def animate(i):\n",
    "    ax.clear()\n",
    "    ax.set_xlabel(\"x\")\n",
    "    ax.set_ylabel(\"y\")\n",
    "\n",
    "    # Plotting the contour lines\n",
    "    contour_lines = ax.contour(Y, X, np.imag(PSI_QM_2D[:, :, i]), cmap='plasma')\n",
    "    plt.clabel(contour_lines, inline=True, fontsize=8)\n",
    "\n",
    "    # Plotting scatter points\n",
    "    subset_indices = range(0, 500, 1)  # Adjust as needed\n",
    "    z_values = np.imag(psi_WKB_2D[i, subset_indices])  # Z-values for color coding\n",
    "    scatter = ax.scatter(trajectories[subset_indices, i][:, 0], trajectories[subset_indices, i][:, 1], \n",
    "                         c=z_values, cmap='plasma', s=20, edgecolor='k', label='Trajectory Points')\n",
    "\n",
    "    # Adding a colorbar for the scatter plot\n",
    "    #fig.colorbar(scatter, ax=ax, label='Z-value', shrink=0.5)\n",
    "\n",
    "    ax.set_xlim(-6, 6)\n",
    "    ax.set_ylim(-6, 6)\n",
    "\n",
    "    # Adding a legend\n",
    "    ax.legend(loc='upper right')\n",
    "\n",
    "    # Optionally, setting a title\n",
    "    ax.set_title(f\"Frame {i}\")\n",
    "ani = FuncAnimation(fig, animate, frames=int(20/0.01), interval=0.01, repeat=True)\n",
    "#fig.colorbar(scatter, ax=ax, label='Z-value', shrink=0.5)"
   ]
  },
  {
   "cell_type": "markdown",
   "id": "9f36edf7",
   "metadata": {},
   "source": [
    "# 2D oscillator going in straigt line differnet frequencies without zero point energy"
   ]
  },
  {
   "cell_type": "code",
   "execution_count": 6,
   "id": "d7b64168",
   "metadata": {},
   "outputs": [
    {
     "name": "stdout",
     "output_type": "stream",
     "text": [
      "Hamiltonian:\n"
     ]
    },
    {
     "data": {
      "text/latex": [
       "$\\displaystyle H(p,q) = 0.5 \\omega^{2} m q^{2} + \\frac{p^{2}}{2 m}$"
      ],
      "text/plain": [
       "<IPython.core.display.Math object>"
      ]
     },
     "metadata": {},
     "output_type": "display_data"
    },
    {
     "name": "stdout",
     "output_type": "stream",
     "text": [
      "Hamilton equations:\n"
     ]
    },
    {
     "data": {
      "text/latex": [
       "$\\displaystyle \\frac{dq}{dt} = \\frac{p}{m}$"
      ],
      "text/plain": [
       "<IPython.core.display.Math object>"
      ]
     },
     "metadata": {},
     "output_type": "display_data"
    },
    {
     "data": {
      "text/latex": [
       "$\\displaystyle \\frac{dp}{dt} = - \\omega^{2} m q$"
      ],
      "text/plain": [
       "<IPython.core.display.Math object>"
      ]
     },
     "metadata": {},
     "output_type": "display_data"
    },
    {
     "name": "stdout",
     "output_type": "stream",
     "text": [
      "Parameters:\n"
     ]
    },
    {
     "data": {
      "text/latex": [
       "$\\displaystyle dimension = 2$"
      ],
      "text/plain": [
       "<IPython.core.display.Math object>"
      ]
     },
     "metadata": {},
     "output_type": "display_data"
    },
    {
     "data": {
      "text/latex": [
       "$\\displaystyle m = 1$"
      ],
      "text/plain": [
       "<IPython.core.display.Math object>"
      ]
     },
     "metadata": {},
     "output_type": "display_data"
    },
    {
     "data": {
      "text/latex": [
       "$\\displaystyle \\omega = [1 1]$"
      ],
      "text/plain": [
       "<IPython.core.display.Math object>"
      ]
     },
     "metadata": {},
     "output_type": "display_data"
    },
    {
     "data": {
      "text/latex": [
       "$\\displaystyle \\mu = [0.0, 0.0]$"
      ],
      "text/plain": [
       "<IPython.core.display.Math object>"
      ]
     },
     "metadata": {},
     "output_type": "display_data"
    },
    {
     "data": {
      "text/latex": [
       "$\\displaystyle \\lambda = [1.0, 1.0]$"
      ],
      "text/plain": [
       "<IPython.core.display.Math object>"
      ]
     },
     "metadata": {},
     "output_type": "display_data"
    },
    {
     "data": {
      "text/latex": [
       "$\\displaystyle p_{0} = [0.80901699 0.58778525]$"
      ],
      "text/plain": [
       "<IPython.core.display.Math object>"
      ]
     },
     "metadata": {},
     "output_type": "display_data"
    },
    {
     "data": {
      "text/latex": [
       "$\\displaystyle \\hbar = 1$"
      ],
      "text/plain": [
       "<IPython.core.display.Math object>"
      ]
     },
     "metadata": {},
     "output_type": "display_data"
    }
   ],
   "source": [
    "mu = [0.,0.]\n",
    "phi = np.pi/5\n",
    "r = np.sqrt(mu[1]**2+mu[0]**2)\n",
    "p = np.array([np.cos(phi),np.sin(phi)])\n",
    "\n",
    "l = [1.,1.]\n",
    "w = np.array([1,1])\n",
    "m = 1\n",
    "h = 1\n",
    "trajectories, psi_WKB_2D, X, Y, PSI_QM_2D = Harmonic_oscillator2D(p, mu,l, w, m, h, n_cutoff = 170, resolution = 300, zero_energey = False)"
   ]
  },
  {
   "cell_type": "code",
   "execution_count": 8,
   "id": "f18651a7",
   "metadata": {},
   "outputs": [],
   "source": [
    "np.save('data/trajectories_CASE2.npy', trajectories)\n",
    "np.save('data/psi_WKB_2D_CASE2.npy', psi_WKB_2D)\n",
    "np.save('data/PSI_QM_2D_CASE2.npy', PSI_QM_2D)\n",
    "np.save('data/X_CASE2.npy', X)\n",
    "np.save('data/Y_CASE2.npy', Y)"
   ]
  },
  {
   "cell_type": "markdown",
   "id": "6428c748",
   "metadata": {},
   "source": [
    "## 2D oscillator going in circle differnet frequencies without zero point energy"
   ]
  },
  {
   "cell_type": "code",
   "execution_count": 2,
   "id": "1ddd8ed6",
   "metadata": {},
   "outputs": [
    {
     "name": "stdout",
     "output_type": "stream",
     "text": [
      "Hamiltonian:\n"
     ]
    },
    {
     "data": {
      "text/latex": [
       "$\\displaystyle H(p,q) = 0.5 \\omega^{2} m q^{2} + \\frac{p^{2}}{2 m}$"
      ],
      "text/plain": [
       "<IPython.core.display.Math object>"
      ]
     },
     "metadata": {},
     "output_type": "display_data"
    },
    {
     "name": "stdout",
     "output_type": "stream",
     "text": [
      "Hamilton equations:\n"
     ]
    },
    {
     "data": {
      "text/latex": [
       "$\\displaystyle \\frac{dq}{dt} = \\frac{p}{m}$"
      ],
      "text/plain": [
       "<IPython.core.display.Math object>"
      ]
     },
     "metadata": {},
     "output_type": "display_data"
    },
    {
     "data": {
      "text/latex": [
       "$\\displaystyle \\frac{dp}{dt} = - \\omega^{2} m q$"
      ],
      "text/plain": [
       "<IPython.core.display.Math object>"
      ]
     },
     "metadata": {},
     "output_type": "display_data"
    },
    {
     "name": "stdout",
     "output_type": "stream",
     "text": [
      "Parameters:\n"
     ]
    },
    {
     "data": {
      "text/latex": [
       "$\\displaystyle dimension = 2$"
      ],
      "text/plain": [
       "<IPython.core.display.Math object>"
      ]
     },
     "metadata": {},
     "output_type": "display_data"
    },
    {
     "data": {
      "text/latex": [
       "$\\displaystyle m = 1$"
      ],
      "text/plain": [
       "<IPython.core.display.Math object>"
      ]
     },
     "metadata": {},
     "output_type": "display_data"
    },
    {
     "data": {
      "text/latex": [
       "$\\displaystyle \\omega = [2 1]$"
      ],
      "text/plain": [
       "<IPython.core.display.Math object>"
      ]
     },
     "metadata": {},
     "output_type": "display_data"
    },
    {
     "data": {
      "text/latex": [
       "$\\displaystyle \\mu = [1.0, 1.0]$"
      ],
      "text/plain": [
       "<IPython.core.display.Math object>"
      ]
     },
     "metadata": {},
     "output_type": "display_data"
    },
    {
     "data": {
      "text/latex": [
       "$\\displaystyle \\lambda = [1.0, 1.0]$"
      ],
      "text/plain": [
       "<IPython.core.display.Math object>"
      ]
     },
     "metadata": {},
     "output_type": "display_data"
    },
    {
     "data": {
      "text/latex": [
       "$\\displaystyle p_{0} = [-1.  1.]$"
      ],
      "text/plain": [
       "<IPython.core.display.Math object>"
      ]
     },
     "metadata": {},
     "output_type": "display_data"
    },
    {
     "data": {
      "text/latex": [
       "$\\displaystyle \\hbar = 1$"
      ],
      "text/plain": [
       "<IPython.core.display.Math object>"
      ]
     },
     "metadata": {},
     "output_type": "display_data"
    }
   ],
   "source": [
    "mu = [1.,1.]\n",
    "phi = np.arctan(mu[1]/mu[0])\n",
    "r = np.sqrt(mu[1]**2+mu[0]**2)\n",
    "p = r*np.array([-np.sin(phi),np.cos(phi)])\n",
    "\n",
    "l = [1.,1.]\n",
    "w = np.array([2,1])\n",
    "m = 1\n",
    "h = 1\n",
    "trajectories, psi_WKB_2D, X, Y, PSI_QM_2D = Harmonic_oscillator2D(p, mu,l, w, m, h, n_cutoff = 170, resolution = 300, zero_energey = False)"
   ]
  },
  {
   "cell_type": "code",
   "execution_count": 4,
   "id": "f9bed266",
   "metadata": {},
   "outputs": [],
   "source": [
    "np.save('data/trajectories_CASE3.npy', trajectories)\n",
    "np.save('data/psi_WKB_2D_CASE3.npy', psi_WKB_2D)\n",
    "np.save('data/PSI_QM_2D_CASE3.npy', PSI_QM_2D)\n",
    "np.save('data/X_CASE3.npy', X)\n",
    "np.save('data/Y_CASE3.npy', Y)"
   ]
  },
  {
   "cell_type": "markdown",
   "id": "1c78f2cd",
   "metadata": {},
   "source": [
    "## 2D oscillator going in circle differnet frequencies with zero point energy"
   ]
  },
  {
   "cell_type": "code",
   "execution_count": 5,
   "id": "a64f1599",
   "metadata": {},
   "outputs": [
    {
     "name": "stdout",
     "output_type": "stream",
     "text": [
      "Hamiltonian:\n"
     ]
    },
    {
     "data": {
      "text/latex": [
       "$\\displaystyle H(p,q) = 0.5 \\omega^{2} m q^{2} + \\frac{p^{2}}{2 m}$"
      ],
      "text/plain": [
       "<IPython.core.display.Math object>"
      ]
     },
     "metadata": {},
     "output_type": "display_data"
    },
    {
     "name": "stdout",
     "output_type": "stream",
     "text": [
      "Hamilton equations:\n"
     ]
    },
    {
     "data": {
      "text/latex": [
       "$\\displaystyle \\frac{dq}{dt} = \\frac{p}{m}$"
      ],
      "text/plain": [
       "<IPython.core.display.Math object>"
      ]
     },
     "metadata": {},
     "output_type": "display_data"
    },
    {
     "data": {
      "text/latex": [
       "$\\displaystyle \\frac{dp}{dt} = - \\omega^{2} m q$"
      ],
      "text/plain": [
       "<IPython.core.display.Math object>"
      ]
     },
     "metadata": {},
     "output_type": "display_data"
    },
    {
     "name": "stdout",
     "output_type": "stream",
     "text": [
      "Parameters:\n"
     ]
    },
    {
     "data": {
      "text/latex": [
       "$\\displaystyle dimension = 2$"
      ],
      "text/plain": [
       "<IPython.core.display.Math object>"
      ]
     },
     "metadata": {},
     "output_type": "display_data"
    },
    {
     "data": {
      "text/latex": [
       "$\\displaystyle m = 1$"
      ],
      "text/plain": [
       "<IPython.core.display.Math object>"
      ]
     },
     "metadata": {},
     "output_type": "display_data"
    },
    {
     "data": {
      "text/latex": [
       "$\\displaystyle \\omega = [2 1]$"
      ],
      "text/plain": [
       "<IPython.core.display.Math object>"
      ]
     },
     "metadata": {},
     "output_type": "display_data"
    },
    {
     "data": {
      "text/latex": [
       "$\\displaystyle \\mu = [1.0, 1.0]$"
      ],
      "text/plain": [
       "<IPython.core.display.Math object>"
      ]
     },
     "metadata": {},
     "output_type": "display_data"
    },
    {
     "data": {
      "text/latex": [
       "$\\displaystyle \\lambda = [1.0, 1.0]$"
      ],
      "text/plain": [
       "<IPython.core.display.Math object>"
      ]
     },
     "metadata": {},
     "output_type": "display_data"
    },
    {
     "data": {
      "text/latex": [
       "$\\displaystyle p_{0} = [-1.  1.]$"
      ],
      "text/plain": [
       "<IPython.core.display.Math object>"
      ]
     },
     "metadata": {},
     "output_type": "display_data"
    },
    {
     "data": {
      "text/latex": [
       "$\\displaystyle \\hbar = 1$"
      ],
      "text/plain": [
       "<IPython.core.display.Math object>"
      ]
     },
     "metadata": {},
     "output_type": "display_data"
    }
   ],
   "source": [
    "mu = [1.,1.]\n",
    "phi = np.arctan(mu[1]/mu[0])\n",
    "r = np.sqrt(mu[1]**2+mu[0]**2)\n",
    "p = r*np.array([-np.sin(phi),np.cos(phi)])\n",
    "\n",
    "l = [1.,1.]\n",
    "w = np.array([2,1])\n",
    "m = 1\n",
    "h = 1\n",
    "trajectories, psi_WKB_2D, X, Y, PSI_QM_2D = Harmonic_oscillator2D(p, mu,l, w, m, h, n_cutoff = 170, resolution = 300, zero_energey = True)"
   ]
  },
  {
   "cell_type": "code",
   "execution_count": 6,
   "id": "89c1925e",
   "metadata": {},
   "outputs": [],
   "source": [
    "np.save('data/trajectories_CASE4.npy', trajectories)\n",
    "np.save('data/psi_WKB_2D_CASE4.npy', psi_WKB_2D)\n",
    "np.save('data/PSI_QM_2D_CASE4.npy', PSI_QM_2D)\n",
    "np.save('data/X_CASE4.npy', X)\n",
    "np.save('data/Y_CASE4.npy', Y)"
   ]
  },
  {
   "cell_type": "code",
   "execution_count": null,
   "id": "5ae7f17f",
   "metadata": {},
   "outputs": [],
   "source": []
  }
 ],
 "metadata": {
  "kernelspec": {
   "display_name": "Python 3 (ipykernel)",
   "language": "python",
   "name": "python3"
  },
  "language_info": {
   "codemirror_mode": {
    "name": "ipython",
    "version": 3
   },
   "file_extension": ".py",
   "mimetype": "text/x-python",
   "name": "python",
   "nbconvert_exporter": "python",
   "pygments_lexer": "ipython3",
   "version": "3.10.13"
  }
 },
 "nbformat": 4,
 "nbformat_minor": 5
}
