{
 "cells": [
  {
   "cell_type": "code",
   "execution_count": 1,
   "id": "d6c7e137",
   "metadata": {},
   "outputs": [],
   "source": [
    "from library import *\n",
    "import numpy as np\n",
    "import sympy as s\n",
    "import matplotlib\n",
    "import matplotlib.pyplot as plt\n",
    "from scipy.stats import norm\n",
    "from matplotlib import interactive\n",
    "from matplotlib.animation import FuncAnimation\n",
    "from scipy.stats import norm\n",
    "import math\n",
    "import multiprocessing as multiproc\n",
    "import datetime\n",
    "from joblib import Parallel, delayed\n",
    "from numba import jit\n",
    "from matplotlib import cm\n",
    "from matplotlib.colors import LinearSegmentedColormap,TwoSlopeNorm\n",
    "from IPython.display import display, Math"
   ]
  },
  {
   "cell_type": "code",
   "execution_count": null,
   "id": "79453e0f",
   "metadata": {},
   "outputs": [],
   "source": [
    "p = 5\n",
    "N = 500\n",
    "resolution = 500\n",
    "l=1\n",
    "mu=0\n",
    "D=1\n",
    "t_max=20"
   ]
  },
  {
   "cell_type": "code",
   "execution_count": null,
   "id": "17b67d67",
   "metadata": {},
   "outputs": [],
   "source": [
    "trajectories, x_arr, psi_WKB, psi_WKB_analytical, psi_QM = Harmonic_oscillator1D(p, mu,l, w, m, h, n_cutoff = 170, resolution = 300, zero_energey = True)"
   ]
  },
  {
   "cell_type": "code",
   "execution_count": null,
   "id": "a46d1bf8",
   "metadata": {},
   "outputs": [],
   "source": [
    "np.save('data/trajectories.npy', trajectories)\n",
    "np.save('data/x_arr.npy', x_arr)\n",
    "np.save('data/psi_WKB.npy', psi_WKB)\n",
    "np.save('data/psi_WKB_analytical.npy', psi_WKB_analytical)\n",
    "np.save('data/psi_QM.npy', psi_QM)"
   ]
  }
 ],
 "metadata": {
  "kernelspec": {
   "display_name": "Python 3 (ipykernel)",
   "language": "python",
   "name": "python3"
  },
  "language_info": {
   "codemirror_mode": {
    "name": "ipython",
    "version": 3
   },
   "file_extension": ".py",
   "mimetype": "text/x-python",
   "name": "python",
   "nbconvert_exporter": "python",
   "pygments_lexer": "ipython3",
   "version": "3.10.13"
  }
 },
 "nbformat": 4,
 "nbformat_minor": 5
}
